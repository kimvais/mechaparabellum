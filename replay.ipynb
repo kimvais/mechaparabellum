{
 "cells": [
  {
   "cell_type": "code",
   "id": "2d97a5d4-f77f-4f3c-8a1f-8c3b1b678581",
   "metadata": {
    "ExecuteTime": {
     "end_time": "2025-07-28T17:34:46.785375Z",
     "start_time": "2025-07-28T17:34:46.766921Z"
    }
   },
   "source": [
    "import binascii\n",
    "import datetime\n",
    "from lxml import etree, objectify\n",
    "from xml.etree import ElementTree as ET\n",
    "import pathlib\n",
    "import stringcase\n",
    "from collections import Counter, defaultdict\n",
    "\n",
    "from mechaparabellum.utils import get_newest\n",
    "from mechaparabellum.units import Unit"
   ],
   "outputs": [],
   "execution_count": 1
  },
  {
   "cell_type": "code",
   "id": "46e694b4-531e-4175-b2bb-4960f3f335d3",
   "metadata": {
    "ExecuteTime": {
     "end_time": "2025-07-28T17:34:52.283750Z",
     "start_time": "2025-07-28T17:34:52.280245Z"
    }
   },
   "source": [
    "DIR = pathlib.Path('C:/Program Files (x86)/Steam/steamapps/common/Mechabellum/ProjectDatas/Replay')\n",
    "OUT_DIR = pathlib.Path('c:/Users/k/p/mechaparabellum/replays')\n",
    "STATIC = 0x151\n",
    "DATE_END = 0x166\n",
    "XML_START = 0x18a\n",
    "START_TAG = b'<BattleRecord xmlns'\n",
    "END_TAG = b'</BattleRecord>'"
   ],
   "outputs": [],
   "execution_count": 3
  },
  {
   "cell_type": "code",
   "id": "a4bb1754-f8a3-4c5d-a877-0ed8bc10e657",
   "metadata": {
    "ExecuteTime": {
     "end_time": "2025-07-28T17:34:48.304025Z",
     "start_time": "2025-07-28T17:34:48.123195Z"
    }
   },
   "source": [
    "print(datetime.datetime.now(datetime.UTC).timestamp())\n",
    "BYTES = defaultdict(Counter)\n",
    "replay = get_newest(DIR.glob('*.grbr'))\n",
    "with replay.open('rb') as f:\n",
    "    f.seek(DATE_END)\n",
    "    raw = f.read(XML_START - STATIC)\n",
    "    data = raw.split(b'\\x5e\\x06\\x00\\x00', 1)[-1]\n",
    "    print(int.from_bytes(data[0x12:0x12+6], byteorder='big'))\n",
    "    for i, b in enumerate(data):\n",
    "        BYTES[i][b] += 1"
   ],
   "outputs": [
    {
     "name": "stdout",
     "output_type": "stream",
     "text": [
      "1753724088.125601\n"
     ]
    },
    {
     "ename": "NameError",
     "evalue": "name 'DIR' is not defined",
     "output_type": "error",
     "traceback": [
      "\u001B[31m---------------------------------------------------------------------------\u001B[39m",
      "\u001B[31mNameError\u001B[39m                                 Traceback (most recent call last)",
      "\u001B[36mCell\u001B[39m\u001B[36m \u001B[39m\u001B[32mIn[2]\u001B[39m\u001B[32m, line 3\u001B[39m\n\u001B[32m      1\u001B[39m \u001B[38;5;28mprint\u001B[39m(datetime.datetime.now(datetime.UTC).timestamp())\n\u001B[32m      2\u001B[39m BYTES = defaultdict(Counter)\n\u001B[32m----> \u001B[39m\u001B[32m3\u001B[39m replay = get_newest(\u001B[43mDIR\u001B[49m.glob(\u001B[33m'\u001B[39m\u001B[33m*.grbr\u001B[39m\u001B[33m'\u001B[39m))\n\u001B[32m      4\u001B[39m \u001B[38;5;28;01mwith\u001B[39;00m replay.open(\u001B[33m'\u001B[39m\u001B[33mrb\u001B[39m\u001B[33m'\u001B[39m) \u001B[38;5;28;01mas\u001B[39;00m f:\n\u001B[32m      5\u001B[39m     f.seek(DATE_END)\n",
      "\u001B[31mNameError\u001B[39m: name 'DIR' is not defined"
     ]
    }
   ],
   "execution_count": 2
  },
  {
   "metadata": {
    "ExecuteTime": {
     "end_time": "2025-07-28T17:32:50.516628Z",
     "start_time": "2025-07-28T17:32:36.751403Z"
    }
   },
   "cell_type": "code",
   "source": [
    "for replay in DIR.glob('*.grbr'):\n",
    "    s = replay.read_bytes()\n",
    "    xml_start = s.find(START_TAG)\n",
    "    xml_end = s.find(END_TAG)\n",
    "    xml = s[xml_start:xml_end+len(END_TAG)].decode('utf-8')\n",
    "    br = objectify.fromstring(xml)\n",
    "    id_ = br.BattleInfo.BattleID\n",
    "    fn = (OUT_DIR / str(id_)).with_suffix('.xml')\n",
    "    fn.write_text(xml)"
   ],
   "id": "da27f1025f7d272b",
   "outputs": [],
   "execution_count": 4
  },
  {
   "metadata": {
    "ExecuteTime": {
     "end_time": "2025-07-28T17:34:53.952438Z",
     "start_time": "2025-07-28T17:34:53.940379Z"
    }
   },
   "cell_type": "code",
   "source": [
    "xml_file = (OUT_DIR / '20250728--134516141.xml')\n",
    "xml_file = (OUT_DIR / '20250728--201625477.xml')\n",
    "# xml_file = (OUT_DIR / '20250727--2993.xml')\n",
    "# br = objectify.fromstring(xml.read_text())\n",
    "tree = etree.parse(xml_file, parser=etree.XMLParser(recover=True))\n",
    "root = tree.getroot()"
   ],
   "id": "32970deb0c9cdce3",
   "outputs": [],
   "execution_count": 4
  },
  {
   "metadata": {
    "ExecuteTime": {
     "end_time": "2025-07-28T17:34:56.385047Z",
     "start_time": "2025-07-28T17:34:56.381700Z"
    }
   },
   "cell_type": "code",
   "source": [
    "def to_str(elem):\n",
    "    return ET.tostring(elem).decode('utf-8')"
   ],
   "id": "864e8c2b5d9cbfff",
   "outputs": [],
   "execution_count": 5
  },
  {
   "metadata": {
    "ExecuteTime": {
     "end_time": "2025-07-28T17:35:03.282159Z",
     "start_time": "2025-07-28T17:35:03.278942Z"
    }
   },
   "cell_type": "code",
   "source": [
    "def get_unit(action):\n",
    "    uid = action.find('UID').text\n",
    "    return Unit(int(uid))"
   ],
   "id": "761e972fc62e590a",
   "outputs": [],
   "execution_count": 7
  },
  {
   "metadata": {
    "ExecuteTime": {
     "end_time": "2025-07-28T17:35:07.784013Z",
     "start_time": "2025-07-28T17:35:07.774510Z"
    }
   },
   "cell_type": "code",
   "source": [
    "prs = root.find('playerRecords')\n",
    "print(prs[0].find('name').text)\n",
    "[t.tag for t in prs[0]]\n",
    "for round in prs[0].find('playerRoundRecords'):\n",
    "    print(f'\\n\\n --- Round: {round.find(\"round\").text}')\n",
    "    unlocked_units = round.xpath('playerData/shop/unlockedUnits/int')\n",
    "    actions = round.xpath('actionRecords/MatchActionData')\n",
    "    for unit in unlocked_units:\n",
    "        print(f' Available: {Unit(int(unit.text))}')\n",
    "    for action in actions:\n",
    "        act_name = action.attrib.values()[0]\n",
    "        try:\n",
    "            match act_name:\n",
    "                case 'PAD_ChooseAdvanceTeam':\n",
    "                    uid = action.find('ID').text\n",
    "                    idx = action.find('Index').text\n",
    "                    print(f'Choose starting setup: #{idx}: {uid}')\n",
    "                case 'PAD_UpgradeTechnology':\n",
    "                    unit = get_unit(action)\n",
    "                    tech  = int(action.find('TechID').text)\n",
    "                    print(f'Upgrade technology: {unit} - {tech}')\n",
    "                case 'PAD_ActiveEnergyTowerSkill':\n",
    "                    skill = int(action.find('SkillID').text)\n",
    "                    print(f'Active energy tower skill: {skill}')\n",
    "                case 'PAD_BuyUnit':\n",
    "                    uid = get_unit(action)\n",
    "                    print(f'Buy unit: {uid}')\n",
    "                case 'PAD_UnlockUnit':\n",
    "                    uid = get_unit(action)\n",
    "                    print(f'Unlock unit: {uid}')\n",
    "                case 'PAD_UpgradeUnit':\n",
    "                    uid = get_unit(action)\n",
    "                    idx = action.find('UIDX').text\n",
    "                    print(f'Upgrade unit: {uid} #{idx}')\n",
    "                case 'PAD_FinishDeploy':\n",
    "                    print('Finish deploy')\n",
    "                case 'PAD_Undo':\n",
    "                    print('Undo')\n",
    "                case 'PAD_ReleaseCommanderSkill':\n",
    "                    skill = int(action.find('ID').text)\n",
    "                    index = int(action.find('SkillIndex').text)\n",
    "                    print(f'Release commander skill: {skill}')\n",
    "                case 'PAD_MoveUnit':\n",
    "                    moves = action.xpath('moveUnitDatas/MoveUnitData')\n",
    "                    for data in moves:\n",
    "                        x = data.find('position').find('x').text\n",
    "                        y = data.find('position').find('y').text\n",
    "                        uid = Unit(int(data.find('unitID').text))\n",
    "                        index = data.find('unitIndex').text\n",
    "                        print(f'Move unit: {uid} #{index} x: {x} y: {y}')\n",
    "                case 'PAD_ChooseReinforceItem':\n",
    "                    idx = action.find('Index').text\n",
    "                    uid = action.find('ID').text\n",
    "                    print(f'Choose reinforce item: {uid} ({idx})')\n",
    "                case 'PAD_UseEquipment':\n",
    "                    uid = action.find('EquipmentID').text\n",
    "                    idx = action.find('UnitIndex').text\n",
    "                    print(f'Use equipment: {uid} on unit #{idx}')\n",
    "                case 'PAD_ActiveBlueprint':\n",
    "                    uid = action.find('ID').text\n",
    "                    print(f'Activate spell: {uid}')\n",
    "                case 'PAD_GiveUp':\n",
    "                    print('Surrender')\n",
    "                case _:\n",
    "                    print(to_str(action))\n",
    "        except AttributeError:\n",
    "            print(to_str(action))\n"
   ],
   "id": "a517219840d124c8",
   "outputs": [
    {
     "name": "stdout",
     "output_type": "stream",
     "text": [
      "Kimvais\n",
      "\n",
      "\n",
      " --- Round: 0\n",
      "Choose starting setup: #2: 9894\n",
      "\n",
      "\n",
      " --- Round: 1\n",
      " Available: Sabertooth\n",
      " Available: Arclight\n",
      "Unlock unit: Crawler\n",
      "Buy unit: Crawler\n",
      "Buy unit: Crawler\n",
      "Move unit: Sabertooth #0 x: -175 y: -75\n",
      "Move unit: Sabertooth #1 x: -85 y: -75\n",
      "Move unit: Arclight #2 x: -220 y: -80\n",
      "Move unit: Arclight #3 x: -130 y: -80\n",
      "Move unit: Arclight #4 x: -40 y: -80\n",
      "Move unit: Crawler #5 x: -140 y: -205\n",
      "Move unit: Crawler #6 x: -80 y: -115\n",
      "Finish deploy\n",
      "\n",
      "\n",
      " --- Round: 2\n",
      " Available: Sabertooth\n",
      " Available: Arclight\n",
      " Available: Crawler\n",
      "Choose reinforce item: 31301 (2)\n",
      "Active energy tower skill: 3\n",
      "Unlock unit: Sledgehammer\n",
      "Buy unit: Sledgehammer\n",
      "Move unit: Sledgehammer #7 x: 140 y: -135\n",
      "Release commander skill: 1100001\n",
      "Upgrade unit: Sabertooth #0\n",
      "Buy unit: Sabertooth\n",
      "Move unit: Sabertooth #8 x: 5 y: -75\n",
      "Undo\n",
      "Undo\n",
      "Undo\n",
      "Undo\n",
      "Buy unit: Sledgehammer\n",
      "Undo\n",
      "Buy unit: Sabertooth\n",
      "Move unit: Sabertooth #8 x: 5 y: -75\n",
      "Release commander skill: 1100001\n",
      "Upgrade unit: Sabertooth #8\n",
      "Finish deploy\n",
      "\n",
      "\n",
      " --- Round: 3\n",
      " Available: Sabertooth\n",
      " Available: Arclight\n",
      " Available: Crawler\n",
      " Available: Sledgehammer\n",
      "Choose reinforce item: 13030002 (0)\n",
      "Upgrade unit: Sabertooth #0\n",
      "Upgrade unit: Sabertooth #8\n",
      "Use equipment: 13030002 on unit #8\n",
      "Buy unit: Sabertooth\n",
      "Undo\n",
      "Buy unit: Crawler\n",
      "Buy unit: Crawler\n",
      "Move unit: Crawler #10 x: -140 y: -285\n",
      "Move unit: Crawler #9 x: -290 y: -35\n",
      "Move unit: Crawler #9 x: -260 y: -285\n",
      "Move unit: Crawler #10 x: 140 y: -205\n",
      "Active energy tower skill: 3\n",
      "Buy unit: Sledgehammer\n",
      "Move unit: Sledgehammer #11 x: -275 y: -70\n",
      "Move unit: Sledgehammer #11 x: -275 y: -40\n",
      "Finish deploy\n",
      "\n",
      "\n",
      " --- Round: 4\n",
      " Available: Sabertooth\n",
      " Available: Arclight\n",
      " Available: Crawler\n",
      " Available: Sledgehammer\n",
      "Choose reinforce item: 1043120 (1)\n",
      "Move unit: Fire Badger #14 x: 215 y: -170\n",
      "Move unit: Fire Badger #12 x: -215 y: -170\n",
      "Move unit: Fire Badger #13 x: 65 y: -120\n",
      "Upgrade technology: Fire Badger - 10220\n",
      "Buy unit: Sabertooth\n",
      "Buy unit: Sabertooth\n",
      "Move unit: Sabertooth #15 x: -275 y: -75\n",
      "Move unit: Sabertooth #16 x: 115 y: -75\n",
      "Move unit: Sabertooth #16 x: 195 y: -115\n",
      "Release commander skill: 1100001\n",
      "Upgrade unit: Sabertooth #15\n",
      "Upgrade unit: Arclight #4\n",
      "Finish deploy\n",
      "\n",
      "\n",
      " --- Round: 5\n",
      " Available: Sabertooth\n",
      " Available: Arclight\n",
      " Available: Crawler\n",
      " Available: Sledgehammer\n",
      " Available: Fire Badger\n",
      "Choose reinforce item: 31001 (1)\n",
      "Upgrade unit: Crawler #5\n",
      "Upgrade unit: Crawler #10\n",
      "Unlock unit: Mustang\n",
      "Buy unit: Mustang\n",
      "Buy unit: Mustang\n",
      "Move unit: Mustang #17 x: -265 y: -170\n",
      "Move unit: Mustang #18 x: -45 y: -170\n",
      "Upgrade technology: Mustang - 3307\n",
      "Upgrade technology: Sabertooth - 10221\n",
      "Upgrade unit: Arclight #3\n",
      "Finish deploy\n",
      "\n",
      "\n",
      " --- Round: 6\n",
      " Available: Sabertooth\n",
      " Available: Arclight\n",
      " Available: Crawler\n",
      " Available: Sledgehammer\n",
      " Available: Fire Badger\n",
      " Available: Mustang\n",
      "Choose reinforce item: 1062225 (2)\n",
      "Active energy tower skill: 3\n",
      "Active energy tower skill: 4\n",
      "Buy unit: Phantom Ray\n",
      "Buy unit: Phantom Ray\n",
      "Buy unit: Phantom Ray\n",
      "Move unit: Phantom Ray #23 x: -245 y: -150\n",
      "Move unit: Phantom Ray #21 x: -165 y: -150\n",
      "Move unit: Phantom Ray #19 x: -85 y: -150\n",
      "Move unit: Phantom Ray #20 x: -5 y: -150\n",
      "Move unit: Phantom Ray #22 x: 75 y: -150\n",
      "Upgrade technology: Phantom Ray - 11025\n",
      "Upgrade unit: Crawler #10\n",
      "Release commander skill: 1100001\n",
      "Upgrade unit: Crawler #5\n",
      "Undo\n",
      "Undo\n",
      "Release commander skill: 1100001\n",
      "Undo\n",
      "Release commander skill: 1100001\n",
      "Upgrade unit: Crawler #10\n",
      "Finish deploy\n",
      "\n",
      "\n",
      " --- Round: 7\n",
      " Available: Sabertooth\n",
      " Available: Arclight\n",
      " Available: Crawler\n",
      " Available: Sledgehammer\n",
      " Available: Fire Badger\n",
      " Available: Mustang\n",
      " Available: Phantom Ray\n",
      "Choose reinforce item: 200001 (2)\n",
      "Release commander skill: 200001\n",
      "Upgrade unit: Phantom Ray #21\n",
      "Upgrade unit: Phantom Ray #23\n",
      "Upgrade technology: Phantom Ray - 10225\n",
      "Upgrade unit: Sabertooth #1\n",
      "Upgrade unit: Sabertooth #0\n",
      "Upgrade unit: Sabertooth #8\n",
      "Upgrade unit: Sabertooth #16\n",
      "Buy unit: Crawler\n",
      "Buy unit: Crawler\n",
      "Move unit: Crawler #25 x: -335 y: 300\n",
      "Move unit: Crawler #24 x: 325 y: 300\n",
      "Active energy tower skill: 1\n",
      "Active energy tower skill: 5\n",
      "Upgrade unit: Mustang #18\n",
      "Upgrade unit: Fire Badger #13\n",
      "Finish deploy\n",
      "\n",
      "\n",
      " --- Round: 8\n",
      " Available: Sabertooth\n",
      " Available: Arclight\n",
      " Available: Crawler\n",
      " Available: Sledgehammer\n",
      " Available: Fire Badger\n",
      " Available: Mustang\n",
      " Available: Phantom Ray\n",
      "Choose reinforce item: 100002 (0)\n",
      "Release commander skill: 100002\n",
      "Buy unit: Fire Badger\n",
      "Move unit: Fire Badger #26 x: 40 y: -65\n",
      "Buy unit: Fire Badger\n",
      "Move unit: Fire Badger #27 x: -200 y: -55\n",
      "Upgrade technology: Mustang - 10207\n",
      "Upgrade unit: Mustang #17\n",
      "Active energy tower skill: 1\n",
      "Active energy tower skill: 5\n",
      "Upgrade unit: Fire Badger #14\n",
      "Upgrade unit: Sabertooth #8\n",
      "Upgrade unit: Sabertooth #15\n",
      "Release commander skill: 1100001\n",
      "Undo\n",
      "Release commander skill: 1100001\n",
      "Finish deploy\n",
      "Surrender\n"
     ]
    }
   ],
   "execution_count": 8
  },
  {
   "cell_type": "code",
   "id": "5903a729-2395-4118-97f8-244697df4483",
   "metadata": {
    "ExecuteTime": {
     "end_time": "2025-07-28T15:32:22.111687Z",
     "start_time": "2025-07-28T15:32:22.108391Z"
    }
   },
   "source": [
    "# sorted(BYTES.items(), key=lambda t: len(t[1]))\n",
    "for idx, b in BYTES.items():\n",
    "    if len(b) > 1:\n",
    "        print(f'{idx:02x} {len(b):02d}: {b}')"
   ],
   "outputs": [],
   "execution_count": 96
  },
  {
   "cell_type": "code",
   "execution_count": 153,
   "id": "02929372-c05f-4fea-9e4d-6a8909c5dbd4",
   "metadata": {},
   "outputs": [],
   "source": [
    "n = 281474976711080080"
   ]
  },
  {
   "cell_type": "code",
   "execution_count": 157,
   "id": "166c4a5c-6e7e-4f22-813c-fa382c4ed42f",
   "metadata": {},
   "outputs": [
    {
     "data": {
      "text/plain": [
       "'03 e8 00 00 00 06 78 90'"
      ]
     },
     "execution_count": 157,
     "metadata": {},
     "output_type": "execute_result"
    }
   ],
   "source": [
    "n.to_bytes(8, 'big').hex(' ')"
   ]
  }
 ],
 "metadata": {
  "kernelspec": {
   "display_name": "Python 3 (ipykernel)",
   "language": "python",
   "name": "python3"
  },
  "language_info": {
   "codemirror_mode": {
    "name": "ipython",
    "version": 3
   },
   "file_extension": ".py",
   "mimetype": "text/x-python",
   "name": "python",
   "nbconvert_exporter": "python",
   "pygments_lexer": "ipython3",
   "version": "3.12.6"
  }
 },
 "nbformat": 4,
 "nbformat_minor": 5
}
