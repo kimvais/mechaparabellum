{
 "cells": [
  {
   "cell_type": "code",
   "id": "c70c112577cf6a83",
   "metadata": {
    "ExecuteTime": {
     "end_time": "2025-07-30T11:43:28.358643Z",
     "start_time": "2025-07-30T11:43:28.355641Z"
    }
   },
   "source": [
    "# [Info][00:57:48 2025/07/30 +03:00] recv message [-1192] - [PushAddFpHistory]^M\n",
    "import json\n",
    "import re"
   ],
   "outputs": [],
   "execution_count": 2
  },
  {
   "metadata": {},
   "cell_type": "code",
   "outputs": [],
   "execution_count": null,
   "source": "GAME_RESULT_RE = re.compile(r'^ \\[INFO]\\[.*] recv message \\[-\\d+] - \\[PushAddFpHistory]\\n^(?P<json>.+)$', re.MULTILINE)\n",
   "id": "10b74b814f795a0a"
  },
  {
   "metadata": {
    "ExecuteTime": {
     "end_time": "2025-07-30T11:43:29.530473Z",
     "start_time": "2025-07-30T11:43:29.525376Z"
    }
   },
   "cell_type": "code",
   "source": [
    "s = '''[{\"record\": { \"time\": 1753826266, \"eloPoint\": -13, \"mapId\": 2021, \"season\": 4, \"lobby\": { \"players\": [ { \"userid\": \"281474976710805718\", \"riskInfo\": { \"name\": \"JabaMaya\", \"faceUrl\": \"https://avatars.steamstatic.com/6a1f82166bffee647a9764f3f94cd6b26064b0d6_full.jpg\", \"blockName\": { \"1\": false, \"2\": false, \"3\": false }, \"blockFace\": { \"1\": false, \"2\": false, \"3\": false } }, \"index\": 1 }, { \"userid\": \"281474976710764850\", \"riskInfo\": { \"name\": \"Μ.Ξ.Ğ.Λ.Τ.Ř.Ø.Ņ.\", \"faceUrl\": \"https://avatars.steamstatic.com/f31c25ab959fc993b93f92bd2abcb80f4e482c82_full.jpg\", \"blockName\": { \"1\": false, \"2\": false, \"3\": false }, \"blockFace\": { \"1\": false, \"2\": false, \"3\": false } } }, { \"userid\": \"281474976711266755\", \"riskInfo\": { \"name\": \"Kalmere\", \"faceUrl\": \"https://avatars.steamstatic.com/fdd8590c4e2fb20011a0e762f3868729bffa8be2_full.jpg\", \"blockName\": { \"1\": false, \"2\": false, \"3\": false }, \"blockFace\": { \"1\": false, \"2\": false, \"3\": false } }, \"index\": 2 } ], \"win\": -1, \"index\": 3 } } }]'''\n",
    "json.loads(s)"
   ],
   "id": "initial_id",
   "outputs": [
    {
     "data": {
      "text/plain": [
       "[{'record': {'time': 1753826266,\n",
       "   'eloPoint': -13,\n",
       "   'mapId': 2021,\n",
       "   'season': 4,\n",
       "   'lobby': {'players': [{'userid': '281474976710805718',\n",
       "      'riskInfo': {'name': 'JabaMaya',\n",
       "       'faceUrl': 'https://avatars.steamstatic.com/6a1f82166bffee647a9764f3f94cd6b26064b0d6_full.jpg',\n",
       "       'blockName': {'1': False, '2': False, '3': False},\n",
       "       'blockFace': {'1': False, '2': False, '3': False}},\n",
       "      'index': 1},\n",
       "     {'userid': '281474976710764850',\n",
       "      'riskInfo': {'name': 'Μ.Ξ.Ğ.Λ.Τ.Ř.Ø.Ņ.',\n",
       "       'faceUrl': 'https://avatars.steamstatic.com/f31c25ab959fc993b93f92bd2abcb80f4e482c82_full.jpg',\n",
       "       'blockName': {'1': False, '2': False, '3': False},\n",
       "       'blockFace': {'1': False, '2': False, '3': False}}},\n",
       "     {'userid': '281474976711266755',\n",
       "      'riskInfo': {'name': 'Kalmere',\n",
       "       'faceUrl': 'https://avatars.steamstatic.com/fdd8590c4e2fb20011a0e762f3868729bffa8be2_full.jpg',\n",
       "       'blockName': {'1': False, '2': False, '3': False},\n",
       "       'blockFace': {'1': False, '2': False, '3': False}},\n",
       "      'index': 2}],\n",
       "    'win': -1,\n",
       "    'index': 3}}}]"
      ]
     },
     "execution_count": 3,
     "metadata": {},
     "output_type": "execute_result"
    }
   ],
   "execution_count": 3
  }
 ],
 "metadata": {
  "kernelspec": {
   "display_name": "Python 3",
   "language": "python",
   "name": "python3"
  },
  "language_info": {
   "codemirror_mode": {
    "name": "ipython",
    "version": 2
   },
   "file_extension": ".py",
   "mimetype": "text/x-python",
   "name": "python",
   "nbconvert_exporter": "python",
   "pygments_lexer": "ipython2",
   "version": "2.7.6"
  }
 },
 "nbformat": 4,
 "nbformat_minor": 5
}
